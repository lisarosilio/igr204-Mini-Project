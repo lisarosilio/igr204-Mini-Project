{
 "cells": [
  {
   "cell_type": "code",
   "execution_count": 35,
   "id": "58bdc0fc-0028-4166-aa64-b9f20794fcd7",
   "metadata": {
    "tags": []
   },
   "outputs": [
    {
     "data": {
      "text/plain": [
       "DataTransformerRegistry.enable('json')"
      ]
     },
     "execution_count": 35,
     "metadata": {},
     "output_type": "execute_result"
    }
   ],
   "source": [
    "import pandas as pd\n",
    "import altair as alt\n",
    "alt.data_transformers.enable('json') # Let Altair/Vega-Lite work with large data sets\n",
    "import ipywidgets as widgets\n",
    "from IPython.display import display, clear_output"
   ]
  },
  {
   "cell_type": "code",
   "execution_count": 67,
   "id": "164de4c9-f922-4164-b254-205e0c50361a",
   "metadata": {
    "scrolled": false,
    "tags": []
   },
   "outputs": [
    {
     "data": {
      "text/html": [
       "<div>\n",
       "<style scoped>\n",
       "    .dataframe tbody tr th:only-of-type {\n",
       "        vertical-align: middle;\n",
       "    }\n",
       "\n",
       "    .dataframe tbody tr th {\n",
       "        vertical-align: top;\n",
       "    }\n",
       "\n",
       "    .dataframe thead th {\n",
       "        text-align: right;\n",
       "    }\n",
       "</style>\n",
       "<table border=\"1\" class=\"dataframe\">\n",
       "  <thead>\n",
       "    <tr style=\"text-align: right;\">\n",
       "      <th></th>\n",
       "      <th>sexe</th>\n",
       "      <th>preusuel</th>\n",
       "      <th>annais</th>\n",
       "      <th>dpt</th>\n",
       "      <th>nombre</th>\n",
       "    </tr>\n",
       "  </thead>\n",
       "  <tbody>\n",
       "    <tr>\n",
       "      <th>2955986</th>\n",
       "      <td>2</td>\n",
       "      <td>LYDIE</td>\n",
       "      <td>1973</td>\n",
       "      <td>74</td>\n",
       "      <td>12</td>\n",
       "    </tr>\n",
       "    <tr>\n",
       "      <th>2005516</th>\n",
       "      <td>2</td>\n",
       "      <td>BÉATRICE</td>\n",
       "      <td>1982</td>\n",
       "      <td>45</td>\n",
       "      <td>3</td>\n",
       "    </tr>\n",
       "    <tr>\n",
       "      <th>3012805</th>\n",
       "      <td>2</td>\n",
       "      <td>MANON</td>\n",
       "      <td>2012</td>\n",
       "      <td>72</td>\n",
       "      <td>49</td>\n",
       "    </tr>\n",
       "    <tr>\n",
       "      <th>74043</th>\n",
       "      <td>1</td>\n",
       "      <td>ALEXANDRE</td>\n",
       "      <td>1921</td>\n",
       "      <td>972</td>\n",
       "      <td>20</td>\n",
       "    </tr>\n",
       "    <tr>\n",
       "      <th>1615059</th>\n",
       "      <td>1</td>\n",
       "      <td>TRISTAN</td>\n",
       "      <td>1990</td>\n",
       "      <td>64</td>\n",
       "      <td>7</td>\n",
       "    </tr>\n",
       "  </tbody>\n",
       "</table>\n",
       "</div>"
      ],
      "text/plain": [
       "         sexe   preusuel annais  dpt  nombre\n",
       "2955986     2      LYDIE   1973   74      12\n",
       "2005516     2   BÉATRICE   1982   45       3\n",
       "3012805     2      MANON   2012   72      49\n",
       "74043       1  ALEXANDRE   1921  972      20\n",
       "1615059     1    TRISTAN   1990   64       7"
      ]
     },
     "execution_count": 67,
     "metadata": {},
     "output_type": "execute_result"
    }
   ],
   "source": [
    "names = pd.read_csv(\"dpt2020.csv\", sep=\";\")\n",
    "names.drop(names[names.preusuel == '_PRENOMS_RARES'].index, inplace=True)\n",
    "names.drop(names[names.dpt == 'XX'].index, inplace=True)\n",
    "\n",
    "names.sample(5)"
   ]
  },
  {
   "cell_type": "code",
   "execution_count": 37,
   "id": "0f84ce8f",
   "metadata": {},
   "outputs": [],
   "source": [
    "name_counts = names.groupby(['preusuel', 'sexe']).size().reset_index(name='count')\n",
    "\n",
    "name_pivot = name_counts.pivot(index='preusuel', columns='sexe', values='count').fillna(0)\n",
    "\n",
    "# identify names that appear for both sexes\n",
    "common_names = name_pivot[(name_pivot[1] > 0) & (name_pivot[2] > 0)].reset_index()"
   ]
  },
  {
   "cell_type": "code",
   "execution_count": 38,
   "id": "8ae81dd0",
   "metadata": {},
   "outputs": [
    {
     "data": {
      "text/html": [
       "<div>\n",
       "<style scoped>\n",
       "    .dataframe tbody tr th:only-of-type {\n",
       "        vertical-align: middle;\n",
       "    }\n",
       "\n",
       "    .dataframe tbody tr th {\n",
       "        vertical-align: top;\n",
       "    }\n",
       "\n",
       "    .dataframe thead th {\n",
       "        text-align: right;\n",
       "    }\n",
       "</style>\n",
       "<table border=\"1\" class=\"dataframe\">\n",
       "  <thead>\n",
       "    <tr style=\"text-align: right;\">\n",
       "      <th>sexe</th>\n",
       "      <th>preusuel</th>\n",
       "      <th>1</th>\n",
       "      <th>2</th>\n",
       "    </tr>\n",
       "  </thead>\n",
       "  <tbody>\n",
       "    <tr>\n",
       "      <th>0</th>\n",
       "      <td>ABDON</td>\n",
       "      <td>99.0</td>\n",
       "      <td>11.0</td>\n",
       "    </tr>\n",
       "    <tr>\n",
       "      <th>1</th>\n",
       "      <td>ABEL</td>\n",
       "      <td>2979.0</td>\n",
       "      <td>17.0</td>\n",
       "    </tr>\n",
       "    <tr>\n",
       "      <th>2</th>\n",
       "      <td>ACHILLE</td>\n",
       "      <td>1564.0</td>\n",
       "      <td>20.0</td>\n",
       "    </tr>\n",
       "    <tr>\n",
       "      <th>3</th>\n",
       "      <td>ADAM</td>\n",
       "      <td>2357.0</td>\n",
       "      <td>1.0</td>\n",
       "    </tr>\n",
       "    <tr>\n",
       "      <th>4</th>\n",
       "      <td>ADAMA</td>\n",
       "      <td>273.0</td>\n",
       "      <td>112.0</td>\n",
       "    </tr>\n",
       "    <tr>\n",
       "      <th>...</th>\n",
       "      <td>...</td>\n",
       "      <td>...</td>\n",
       "      <td>...</td>\n",
       "    </tr>\n",
       "    <tr>\n",
       "      <th>863</th>\n",
       "      <td>ZACHARIE</td>\n",
       "      <td>580.0</td>\n",
       "      <td>21.0</td>\n",
       "    </tr>\n",
       "    <tr>\n",
       "      <th>864</th>\n",
       "      <td>ZAYANE</td>\n",
       "      <td>1.0</td>\n",
       "      <td>2.0</td>\n",
       "    </tr>\n",
       "    <tr>\n",
       "      <th>865</th>\n",
       "      <td>ZOÉ</td>\n",
       "      <td>32.0</td>\n",
       "      <td>2876.0</td>\n",
       "    </tr>\n",
       "    <tr>\n",
       "      <th>866</th>\n",
       "      <td>ÉDEN</td>\n",
       "      <td>170.0</td>\n",
       "      <td>25.0</td>\n",
       "    </tr>\n",
       "    <tr>\n",
       "      <th>867</th>\n",
       "      <td>ÉLIE</td>\n",
       "      <td>132.0</td>\n",
       "      <td>5.0</td>\n",
       "    </tr>\n",
       "  </tbody>\n",
       "</table>\n",
       "<p>868 rows × 3 columns</p>\n",
       "</div>"
      ],
      "text/plain": [
       "sexe  preusuel       1       2\n",
       "0        ABDON    99.0    11.0\n",
       "1         ABEL  2979.0    17.0\n",
       "2      ACHILLE  1564.0    20.0\n",
       "3         ADAM  2357.0     1.0\n",
       "4        ADAMA   273.0   112.0\n",
       "..         ...     ...     ...\n",
       "863   ZACHARIE   580.0    21.0\n",
       "864     ZAYANE     1.0     2.0\n",
       "865        ZOÉ    32.0  2876.0\n",
       "866       ÉDEN   170.0    25.0\n",
       "867       ÉLIE   132.0     5.0\n",
       "\n",
       "[868 rows x 3 columns]"
      ]
     },
     "execution_count": 38,
     "metadata": {},
     "output_type": "execute_result"
    }
   ],
   "source": [
    "common_names"
   ]
  },
  {
   "cell_type": "code",
   "execution_count": 39,
   "id": "c3595824",
   "metadata": {},
   "outputs": [],
   "source": [
    "names_sex1 = names[names['sexe'] == 1]"
   ]
  },
  {
   "cell_type": "code",
   "execution_count": 41,
   "id": "53b88e04",
   "metadata": {},
   "outputs": [],
   "source": [
    "names_sex2 = names[names['sexe'] == 2]"
   ]
  },
  {
   "cell_type": "code",
   "execution_count": 70,
   "id": "26990dd9",
   "metadata": {},
   "outputs": [],
   "source": [
    "sexe_mapping = {1: 'Male', 2: 'Female'}"
   ]
  },
  {
   "cell_type": "code",
   "execution_count": 91,
   "id": "e8a9278d",
   "metadata": {
    "scrolled": false
   },
   "outputs": [
    {
     "data": {
      "application/vnd.jupyter.widget-view+json": {
       "model_id": "aab4435723ef455f9b34722a4da99220",
       "version_major": 2,
       "version_minor": 0
      },
      "text/plain": [
       "Dropdown(description='Name:', options=('AADIL', 'AAHIL', 'AARON', 'AARONN', 'AARUSH', 'AAYAN', 'AB', 'AB-DEL',…"
      ]
     },
     "metadata": {},
     "output_type": "display_data"
    },
    {
     "data": {
      "application/vnd.jupyter.widget-view+json": {
       "model_id": "dbd419dbb84e40698cc4cd5642f47116",
       "version_major": 2,
       "version_minor": 0
      },
      "text/plain": [
       "Output()"
      ]
     },
     "metadata": {},
     "output_type": "display_data"
    }
   ],
   "source": [
    "# Create a dropdown widget\n",
    "unique_names = names_sex1['preusuel'].unique().tolist()\n",
    "dropdown = widgets.Dropdown(options=unique_names, description='Name:')\n",
    "\n",
    "# Define the function to update the chart\n",
    "def update_chart(name):\n",
    "    df_edith1 = names_sex1[names_sex1['preusuel'] == name].copy()\n",
    "    \n",
    "    df_edith1.loc[:, 'annais'] = pd.to_numeric(df_edith1['annais'], errors='coerce')\n",
    "    year_bins = [1900, 1905, 1910,1915, 1920,1925, 1930,1935, 1940,1945, 1950,1955, 1960,1965, 1970,1975, 1980,1985, 1990,1995, 2000,2005, 2010,2015, 2020]\n",
    "    bin_labels = [f'{year_bins[i]}-{year_bins[i+1]}' for i in range(len(year_bins)-1)]\n",
    "    df_edith1.loc[:, 'year_bin'] = pd.cut(df_edith1['annais'], bins=year_bins, labels=bin_labels, right=False)\n",
    "    df_edith1['sexe'] = df_edith1['sexe'].map(sexe_mapping)\n",
    "    df_aggregated1 = df_edith1.groupby(['year_bin', 'sexe'],  observed=False).agg({'nombre': 'sum'}).reset_index()\n",
    "    \n",
    "    \n",
    "    bar1 = alt.Chart(df_aggregated1).mark_bar(opacity=0.8, color='blue').encode(\n",
    "        x=alt.X('year_bin:O', title='Year Bin'),\n",
    "        y=alt.Y('nombre:Q', title='Number of People'),\n",
    "        tooltip=['year_bin', 'nombre', 'sexe']\n",
    "    )\n",
    "    \n",
    "    \n",
    "    df_edith2 = names_sex2[names_sex2['preusuel'] == name].copy()\n",
    "    \n",
    "    df_edith2.loc[:, 'annais'] = pd.to_numeric(df_edith2['annais'], errors='coerce')\n",
    "    year_bins = [1900, 1905, 1910,1915, 1920,1925, 1930,1935, 1940,1945, 1950,1955, 1960,1965, 1970,1975, 1980,1985, 1990,1995, 2000,2005, 2010,2015, 2020]\n",
    "    bin_labels = [f'{year_bins[i]}-{year_bins[i+1]}' for i in range(len(year_bins)-1)]\n",
    "    df_edith2.loc[:, 'year_bin'] = pd.cut(df_edith2['annais'], bins=year_bins, labels=bin_labels, right=False)\n",
    "    df_edith1['sexe'] = df_edith1['sexe'].map(sexe_mapping)\n",
    "    df_aggregated2 = df_edith2.groupby(['year_bin', 'sexe'],  observed=False).agg({'nombre': 'sum'}).reset_index()\n",
    "    \n",
    "    bar2 = alt.Chart(df_aggregated2).mark_bar(opacity=0.75, color='red').encode(\n",
    "        x=alt.X('year_bin:O', title='Year Bin'),\n",
    "        y=alt.Y('nombre:Q', title='Number of People'),\n",
    "        tooltip=['year_bin', 'nombre', 'sexe']\n",
    "    )\n",
    " \n",
    "    # Create a horizontal rule to represent the average number of males\n",
    "    avg_line_male = alt.Chart(df_edith1).mark_rule(color='lightblue').encode(\n",
    "        y='average(nombre):Q',\n",
    "        tooltip=alt.Tooltip('average:Q', title='Average Number of Males')\n",
    "    )\n",
    "    \n",
    "    avg_line_female = alt.Chart(df_edith2).mark_rule(color='lightred').encode(\n",
    "    y='average(nombre):Q',\n",
    "    tooltip=alt.Tooltip('average(nombre):Q', title='Average Number of Females')\n",
    "    )\n",
    "    \n",
    "    # Layer the bar charts and the horizontal line\n",
    "    layered_chart = alt.layer(bar1, bar2, avg_line_male, avg_line_female).resolve_scale(\n",
    "        y='shared'\n",
    "    ).properties(\n",
    "        title=f\"Layered Bar Chart of the number of people with name '{name}' in both genders through time\"\n",
    "    )\n",
    "    \n",
    "    # Clear the output area before displaying the new chart\n",
    "    with output:\n",
    "        clear_output(wait=True)\n",
    "        display(layered_chart)\n",
    "\n",
    "# Create an output widget to display the chart\n",
    "output = widgets.Output()\n",
    "\n",
    "# Display the dropdown and set up the observer\n",
    "dropdown.observe(lambda change: update_chart(change['new']), names='value')\n",
    "display(dropdown, output)\n",
    "    \n",
    "    \n",
    "# Initial display\n",
    "update_chart(unique_names[0])"
   ]
  },
  {
   "cell_type": "code",
   "execution_count": null,
   "id": "a7472461",
   "metadata": {},
   "outputs": [],
   "source": []
  }
 ],
 "metadata": {
  "kernelspec": {
   "display_name": "Python 3 (ipykernel)",
   "language": "python",
   "name": "python3"
  },
  "language_info": {
   "codemirror_mode": {
    "name": "ipython",
    "version": 3
   },
   "file_extension": ".py",
   "mimetype": "text/x-python",
   "name": "python",
   "nbconvert_exporter": "python",
   "pygments_lexer": "ipython3",
   "version": "3.11.7"
  }
 },
 "nbformat": 4,
 "nbformat_minor": 5
}
